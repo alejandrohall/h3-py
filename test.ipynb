{
 "cells": [
  {
   "cell_type": "markdown",
   "metadata": {},
   "source": [
    "# Experiments with vectorized functions\n",
    "\n",
    "## todo\n",
    "\n",
    "- since these functions are now `nogil`, threaded parallelization\n",
    "  should provide speedups on multicore systems. try it!"
   ]
  },
  {
   "cell_type": "code",
   "execution_count": 1,
   "metadata": {},
   "outputs": [],
   "source": [
    "from h3._cy.geo import haversine_vect, geo_to_h3_vect\n",
    "import h3.api.numpy_int as h3i\n",
    "import h3.api.basic_str as h3s\n",
    "\n",
    "import numpy as np"
   ]
  },
  {
   "cell_type": "markdown",
   "metadata": {},
   "source": [
    "# `geo_to_h3` times"
   ]
  },
  {
   "cell_type": "code",
   "execution_count": 2,
   "metadata": {},
   "outputs": [],
   "source": [
    "N = 1_000_000\n",
    "\n",
    "lats = np.random.uniform(0, 90, N) \n",
    "lons = np.random.uniform(0, 90, N)"
   ]
  },
  {
   "cell_type": "code",
   "execution_count": 3,
   "metadata": {},
   "outputs": [
    {
     "name": "stdout",
     "output_type": "stream",
     "text": [
      "1.91 s ± 25.1 ms per loop (mean ± std. dev. of 7 runs, 1 loop each)\n"
     ]
    }
   ],
   "source": [
    "%%timeit\n",
    "[h3s.geo_to_h3(lat, lon, 10) for lat, lon in zip(lats, lons)]"
   ]
  },
  {
   "cell_type": "code",
   "execution_count": 4,
   "metadata": {},
   "outputs": [
    {
     "name": "stdout",
     "output_type": "stream",
     "text": [
      "1.91 s ± 129 ms per loop (mean ± std. dev. of 7 runs, 1 loop each)\n"
     ]
    }
   ],
   "source": [
    "%%timeit\n",
    "[h3i.geo_to_h3(lat, lon, 10) for lat, lon in zip(lats, lons)]"
   ]
  },
  {
   "cell_type": "code",
   "execution_count": 5,
   "metadata": {},
   "outputs": [
    {
     "name": "stdout",
     "output_type": "stream",
     "text": [
      "868 ms ± 15.1 ms per loop (mean ± std. dev. of 7 runs, 1 loop each)\n"
     ]
    }
   ],
   "source": [
    "%%timeit\n",
    "out = np.zeros(N, dtype='uint64')\n",
    "geo_to_h3_vect(lats, lons, 9, out)"
   ]
  },
  {
   "cell_type": "markdown",
   "metadata": {},
   "source": [
    "# Haversine distances between cells\n",
    "\n",
    "compute haversine distances between h3 cells, using\n",
    "integer representation (avoiding conversion to/from `str` representation)"
   ]
  },
  {
   "cell_type": "code",
   "execution_count": 6,
   "metadata": {},
   "outputs": [],
   "source": [
    "def rand_hexes(N):\n",
    "    lats = np.random.uniform(0, 90, N) \n",
    "    lons = np.random.uniform(0, 90, N)\n",
    "\n",
    "    out = np.array(\n",
    "        [h3i.geo_to_h3(a, o, 9) for a,o in zip(lats, lons)],\n",
    "        dtype = 'uint64',\n",
    "    )\n",
    "    \n",
    "    return out"
   ]
  },
  {
   "cell_type": "code",
   "execution_count": 7,
   "metadata": {},
   "outputs": [],
   "source": [
    "N = 1_000_000\n",
    "\n",
    "a = rand_hexes(N)\n",
    "b = rand_hexes(N)"
   ]
  },
  {
   "cell_type": "code",
   "execution_count": 8,
   "metadata": {},
   "outputs": [
    {
     "name": "stdout",
     "output_type": "stream",
     "text": [
      "1.02 s ± 33.2 ms per loop (mean ± std. dev. of 7 runs, 1 loop each)\n"
     ]
    }
   ],
   "source": [
    "%%timeit\n",
    "out = np.zeros(N, dtype='double')\n",
    "haversine_vect(a,b,out)"
   ]
  },
  {
   "cell_type": "code",
   "execution_count": null,
   "metadata": {},
   "outputs": [],
   "source": []
  }
 ],
 "metadata": {
  "kernelspec": {
   "display_name": "Python 3",
   "language": "python",
   "name": "python3"
  },
  "language_info": {
   "codemirror_mode": {
    "name": "ipython",
    "version": 3
   },
   "file_extension": ".py",
   "mimetype": "text/x-python",
   "name": "python",
   "nbconvert_exporter": "python",
   "pygments_lexer": "ipython3",
   "version": "3.7.7"
  }
 },
 "nbformat": 4,
 "nbformat_minor": 4
}
